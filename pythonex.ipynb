{
 "cells": [
  {
   "cell_type": "code",
   "execution_count": 1,
   "metadata": {},
   "outputs": [
    {
     "name": "stdout",
     "output_type": "stream",
     "text": [
      "Welcome Jupyter Notebook\n"
     ]
    }
   ],
   "source": [
    "print(\"Welcome Jupyter Notebook\")"
   ]
  },
  {
   "cell_type": "markdown",
   "metadata": {},
   "source": [
    "Data.conjugate "
   ]
  },
  {
   "cell_type": "markdown",
   "metadata": {},
   "source": [
    "Python Data staructures\n",
    "Mutable DS\n",
    "List,Dictionary,Set\n",
    "\n",
    "Immutable DS\n",
    "Tuple,Number,String"
   ]
  },
  {
   "cell_type": "markdown",
   "metadata": {},
   "source": [
    "Object Oriented Programming\n",
    "\n",
    "Jython  written uisng JAVA\n",
    "Python interpreter written using C# - Iron Python"
   ]
  },
  {
   "cell_type": "code",
   "execution_count": 7,
   "metadata": {},
   "outputs": [
    {
     "name": "stdout",
     "output_type": "stream",
     "text": [
      "Car Name: Audi Car Name\n",
      " Car Application for Customer\n",
      "It`s Audi Car Audi Car Name\n"
     ]
    }
   ],
   "source": [
    "#%%writefile carex.py\n",
    "class CarApp:\n",
    "    ''' Car Application for Customer'''\n",
    "\n",
    "    def __init__(self,name):\n",
    "        '''Initialisation of CarApp class'''\n",
    "        self.name = name #object variable\n",
    "        print(\"Car Name:\",name)\n",
    "\n",
    "        \n",
    "    def info(self):\n",
    "        '''Car Information Method'''\n",
    "        print(\"It`s Audi Car\",self.name)\n",
    "\n",
    "\n",
    "if __name__ == '__main__':\n",
    "    AudiCar = CarApp(\"Audi Car Name\")\n",
    "    print(AudiCar.__doc__)\n",
    "    AudiCar.info()\n"
   ]
  },
  {
   "cell_type": "markdown",
   "metadata": {},
   "source": [
    "Writing carmodule.py"
   ]
  },
  {
   "cell_type": "code",
   "execution_count": 15,
   "metadata": {},
   "outputs": [
    {
     "name": "stdout",
     "output_type": "stream",
     "text": [
      "Car Name: Audi car Name\n",
      "It`s Audi Car Audi car Name\n",
      "It's Audi Delux Car Audi car Name\n",
      "Delux Car Features\n"
     ]
    }
   ],
   "source": [
    "#import carmodule as cm\n",
    "\n",
    "from carmodule import CarApp\n",
    "class Deluxcar(CarApp):\n",
    "    '''Delux Car Inherited from carApp'''\n",
    "    def feature(self):\n",
    "        '''Delux Car Feature'''\n",
    "        print(\"Delux Car Features\")     \n",
    "        \n",
    "    def info(self):\n",
    "        '''Delux Car Information Method'''\n",
    "        super().info()\n",
    "        print(\"It's Audi Delux Car\",self.name)   \n",
    "    \n",
    "if __name__ == '__main__':\n",
    "    AudiCar = Deluxcar(\"Audi car Name\")\n",
    "    AudiCar.info()\n",
    "    AudiCar.feature()"
   ]
  },
  {
   "cell_type": "code",
   "execution_count": 18,
   "metadata": {},
   "outputs": [
    {
     "name": "stdout",
     "output_type": "stream",
     "text": [
      "re.compile('[a-z]+', re.IGNORECASE)\n",
      "Match found welcome\n",
      "Match Start 0\n",
      "Match End 7\n",
      "Match Span (0, 7)\n"
     ]
    }
   ],
   "source": [
    "import re\n",
    "\n",
    "#help(re.match)\n",
    "\n",
    "pattern_object = re.compile('[a-z]+',re.IGNORECASE)\n",
    "\n",
    "print(pattern_object)\n",
    "\n",
    "data = \"welcome to regular expression pattern\"\n",
    "\n",
    "m = pattern_object.match(data)\n",
    "#m = pattern_object.search(data)\n",
    "\n",
    "if m:\n",
    "    print(\"Match found\",m.group())\n",
    "    print(\"Match Start\",m.start())\n",
    "    print(\"Match End\",m.end())\n",
    "    print(\"Match Span\",m.span())\n",
    "else:\n",
    "    print(\"Match Not found\")"
   ]
  },
  {
   "cell_type": "code",
   "execution_count": 21,
   "metadata": {},
   "outputs": [
    {
     "name": "stdout",
     "output_type": "stream",
     "text": [
      "['welcome', 'to', 'regular', 'expression', 'pattern']\n",
      "['welcome', 'to', 'regular', 'expression', 'pattern']\n"
     ]
    }
   ],
   "source": [
    "m1 = pattern_object.findall(data)\n",
    "print(m1)\n",
    "\n",
    "m2 = re.findall('[a-z]+',data,re.IGNORECASE)\n",
    "print(m2)"
   ]
  },
  {
   "cell_type": "code",
   "execution_count": 57,
   "metadata": {},
   "outputs": [
    {
     "name": "stdout",
     "output_type": "stream",
     "text": [
      "My name is Rachana and Email is rachana.ganiga@se.com \n",
      "Mobile is 9964073327 and Address is Bangalore rachana.ganiga@gmail.com\n",
      "Account Number is 1234567890 and IFSC Code is HDFC1234 and PAN Number is AZBPG1110G\n",
      "another Mobile number is 9448409640 and address is Udupi, another mobile number is \n",
      "99986111353 and address is Udupi and IFSC Code is IFSD5678 and IP Address is 192.245.200.100\n"
     ]
    }
   ],
   "source": [
    "raw_data = '''My name is Rachana and Email is rachana.ganiga@se.com \n",
    "Mobile is 9964073327 and Address is Bangalore rachana.ganiga@gmail.com\n",
    "Account Number is 1234567890 and IFSC Code is HDFC1234 and PAN Number is AZBPG1110G\n",
    "another Mobile number is 9448409640 and address is Udupi, another mobile number is \n",
    "99986111353 and address is Udupi and IFSC Code is IFSD5678 and IP Address is 192.245.200.100'''\n",
    "\n",
    "with open('mypersonal.txt', 'w') as file:\n",
    "    file.write(raw_data) #write data to file\n",
    "    \n",
    "    \n",
    "with open('mypersonal.txt','r') as file:\n",
    "    data = file.read() #read data from file\n",
    "    \n",
    "print(data)"
   ]
  },
  {
   "cell_type": "code",
   "execution_count": 58,
   "metadata": {},
   "outputs": [
    {
     "name": "stdout",
     "output_type": "stream",
     "text": [
      "['9964073327', '1234567890', '9448409640', '9998611135']\n",
      "['HDFC1234', 'IFSD5678']\n",
      "['AZBPG1110G']\n",
      "['rachana.ganiga@se.com', 'rachana.ganiga@gmail.com']\n",
      "['rachana.ganiga@se.com', 'rachana.ganiga@gmail.com']\n",
      "['192.245.200.100']\n"
     ]
    }
   ],
   "source": [
    "with open('mypersonal.txt','r') as file:\n",
    "    data = file.read() #read data from file\n",
    "\n",
    "mobile_data = re.findall(r'\\d{10}', data)\n",
    "print(mobile_data)\n",
    "ifsc_data = re.findall(r'\\b[A-Z]{4}\\d{4}\\b', data)\n",
    "print(ifsc_data)\n",
    "pan_data = re.findall(r'[A-Z]{5}\\d{4}[A-Z]',data)\n",
    "print(pan_data)\n",
    "email_data = re.findall(r'\\b[A-Za-z0-9._%+-]+@[A-Za-z0-9.-]+\\.[A-Z|a-z]{2,}\\b',data)\n",
    "print(email_data)\n",
    "email_data1 = re.findall(r'\\b[\\w._]+@[\\w]+\\.[\\w]{2,}\\b',data)\n",
    "print(email_data1)\n",
    "ip_address = re.findall(r'\\d{0,3}\\.\\d{0,3}\\.\\d{0,3}\\.\\d{0,3}',data)\n",
    "print(ip_address)"
   ]
  },
  {
   "cell_type": "code",
   "execution_count": 46,
   "metadata": {},
   "outputs": [
    {
     "name": "stdout",
     "output_type": "stream",
     "text": [
      "Collecting pandas\n",
      "  Downloading pandas-2.2.3-cp311-cp311-win_amd64.whl.metadata (19 kB)\n",
      "Collecting numpy>=1.23.2 (from pandas)\n",
      "  Downloading numpy-2.1.2-cp311-cp311-win_amd64.whl.metadata (59 kB)\n",
      "Requirement already satisfied: python-dateutil>=2.8.2 in c:\\users\\sesa632103\\appdata\\local\\programs\\python\\python311\\lib\\site-packages (from pandas) (2.9.0.post0)\n",
      "Collecting pytz>=2020.1 (from pandas)\n",
      "  Downloading pytz-2024.2-py2.py3-none-any.whl.metadata (22 kB)\n",
      "Collecting tzdata>=2022.7 (from pandas)\n",
      "  Downloading tzdata-2024.2-py2.py3-none-any.whl.metadata (1.4 kB)\n",
      "Requirement already satisfied: six>=1.5 in c:\\users\\sesa632103\\appdata\\local\\programs\\python\\python311\\lib\\site-packages (from python-dateutil>=2.8.2->pandas) (1.16.0)\n",
      "Downloading pandas-2.2.3-cp311-cp311-win_amd64.whl (11.6 MB)\n",
      "   ---------------------------------------- 0.0/11.6 MB ? eta -:--:--\n",
      "   -------- ------------------------------- 2.4/11.6 MB 13.4 MB/s eta 0:00:01\n",
      "   -------------------- ------------------- 6.0/11.6 MB 16.1 MB/s eta 0:00:01\n",
      "   ------------------------------ --------- 8.9/11.6 MB 15.0 MB/s eta 0:00:01\n",
      "   ---------------------------------------  11.5/11.6 MB 15.0 MB/s eta 0:00:01\n",
      "   ---------------------------------------  11.5/11.6 MB 15.0 MB/s eta 0:00:01\n",
      "   ---------------------------------------- 11.6/11.6 MB 9.8 MB/s eta 0:00:00\n",
      "Downloading numpy-2.1.2-cp311-cp311-win_amd64.whl (12.9 MB)\n",
      "   ---------------------------------------- 0.0/12.9 MB ? eta -:--:--\n",
      "   ---------- ----------------------------- 3.4/12.9 MB 16.7 MB/s eta 0:00:01\n",
      "   --------------------- ------------------ 7.1/12.9 MB 16.7 MB/s eta 0:00:01\n",
      "   -------------------------------- ------- 10.5/12.9 MB 16.8 MB/s eta 0:00:01\n",
      "   ---------------------------------------  12.8/12.9 MB 16.8 MB/s eta 0:00:01\n",
      "   ---------------------------------------  12.8/12.9 MB 16.8 MB/s eta 0:00:01\n",
      "   ---------------------------------------- 12.9/12.9 MB 10.9 MB/s eta 0:00:00\n",
      "Downloading pytz-2024.2-py2.py3-none-any.whl (508 kB)\n",
      "Downloading tzdata-2024.2-py2.py3-none-any.whl (346 kB)\n",
      "Installing collected packages: pytz, tzdata, numpy, pandas\n",
      "Successfully installed numpy-2.1.2 pandas-2.2.3 pytz-2024.2 tzdata-2024.2\n"
     ]
    }
   ],
   "source": [
    "!pip install --proxy http://gateway.schneider.zscaler.net/ pandas"
   ]
  },
  {
   "cell_type": "code",
   "execution_count": 68,
   "metadata": {},
   "outputs": [
    {
     "name": "stdout",
     "output_type": "stream",
     "text": [
      "['9964073327', '1234567890', '9448409640', '9998611135']\n",
      "{'Rachana': '9964073327', 'Dhyan': '1234567890', 'Sathvik': '9448409640', 'Dhruv': '9998611135'}\n",
      "dict_keys(['Rachana', 'Dhyan', 'Sathvik', 'Dhruv'])\n",
      "dict_values(['9964073327', '1234567890', '9448409640', '9998611135'])\n",
      "Rachana    9964073327\n",
      "Dhyan      1234567890\n",
      "Sathvik    9448409640\n",
      "Dhruv      9998611135\n",
      "dtype: object\n",
      "{'Rachana': '9964073327', 'Dhyan': '1234567890', 'Sathvik': '9448409640', 'Dhruv': '9998611135'}\n"
     ]
    }
   ],
   "source": [
    "import pandas as pd\n",
    "\n",
    "mobile_series = pd.Series(mobile_data,name='Mobile Number')\n",
    "#print(mobile_series)\n",
    "\n",
    "print(mobile_data)\n",
    "\n",
    "mobile_dict = {}\n",
    "\n",
    "mobile_dict['Rachana'] = mobile_data[0]\n",
    "mobile_dict['Dhyan'] = mobile_data[1]\n",
    "mobile_dict['Sathvik'] = mobile_data[2]\n",
    "mobile_dict['Dhruv'] = mobile_data[3]\n",
    "\n",
    "print(mobile_dict)\n",
    "print(mobile_dict.keys())\n",
    "print(mobile_dict.values())\n",
    "\n",
    "mobile_series1 = pd.Series(mobile_dict)\n",
    "print(mobile_series1)\n",
    "print(mobile_dict)"
   ]
  },
  {
   "cell_type": "code",
   "execution_count": 73,
   "metadata": {},
   "outputs": [
    {
     "name": "stdout",
     "output_type": "stream",
     "text": [
      "      Name Mobile Number\n",
      "0  Rachana    9964073327\n",
      "1    Dhyan    1234567890\n",
      "2  Sathvik    9448409640\n",
      "3    Dhruv    9998611135\n",
      "0    Rachana\n",
      "1      Dhyan\n",
      "2    Sathvik\n",
      "3      Dhruv\n",
      "Name: Name, dtype: object\n",
      "0    9964073327\n",
      "1    1234567890\n",
      "2    9448409640\n",
      "3    9998611135\n",
      "Name: Mobile Number, dtype: object\n",
      "(4, 2)\n",
      "2\n",
      "      Name  Mobile Number\n",
      "0  Rachana     9964073327\n",
      "1    Dhyan     1234567890\n",
      "2  Sathvik     9448409640\n",
      "3    Dhruv     9998611135\n"
     ]
    }
   ],
   "source": [
    "\n",
    "mobile_dataframe = pd.DataFrame(mobile_dict.items(),columns=['Name', 'Mobile Number'])\n",
    "print(mobile_dataframe)\n",
    "print(mobile_dataframe['Name'])\n",
    "print(mobile_dataframe['Mobile Number'])\n",
    "print(mobile_dataframe.shape)\n",
    "print(mobile_dataframe.ndim)\n",
    "\n",
    "mobile_dataframe.to_csv('mobile.csv', index=False) #write data to csv file\n",
    "mobile_dataframe1 = pd.read_csv('mobile.csv') #read data from csv file\n",
    "\n",
    "print(mobile_dataframe1)"
   ]
  },
  {
   "cell_type": "code",
   "execution_count": 39,
   "metadata": {},
   "outputs": [
    {
     "name": "stdout",
     "output_type": "stream",
     "text": [
      "Car Name: Audi Car Name\n",
      " Car Application for Customer\n"
     ]
    }
   ],
   "source": [
    "run carex.py"
   ]
  },
  {
   "cell_type": "code",
   "execution_count": null,
   "metadata": {},
   "outputs": [],
   "source": []
  }
 ],
 "metadata": {
  "kernelspec": {
   "display_name": "Python 3",
   "language": "python",
   "name": "python3"
  },
  "language_info": {
   "codemirror_mode": {
    "name": "ipython",
    "version": 3
   },
   "file_extension": ".py",
   "mimetype": "text/x-python",
   "name": "python",
   "nbconvert_exporter": "python",
   "pygments_lexer": "ipython3",
   "version": "3.11.6"
  }
 },
 "nbformat": 4,
 "nbformat_minor": 2
}
